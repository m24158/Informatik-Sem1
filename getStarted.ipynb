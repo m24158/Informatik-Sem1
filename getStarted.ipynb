{
 "cells": [
  {
   "cell_type": "code",
   "execution_count": 4,
   "metadata": {},
   "outputs": [
    {
     "name": "stdout",
     "output_type": "stream",
     "text": [
      "30\n"
     ]
    }
   ],
   "source": [
    "myFirstInteger = 30\n",
    "print(myFirstInteger) "
   ]
  },
  {
   "cell_type": "code",
   "execution_count": 13,
   "metadata": {},
   "outputs": [
    {
     "name": "stdout",
     "output_type": "stream",
     "text": [
      "6\n",
      "5\n",
      "8\n",
      "2.3333333333333335\n",
      "27\n",
      "3\n",
      "2\n"
     ]
    }
   ],
   "source": [
    "print(2+4) #addieren\n",
    "print(10-5) #subbtrahieren\n",
    "print(4*2) #multiplizieren\n",
    "print(7/3) #teilen\n",
    "print(3**3) #Potenzieren\n",
    "print(17//5) #Teilen Ergebnis ist Ganzzahl\n",
    "print(17%5) #Teielen Ergebniss ist der Rest"
   ]
  },
  {
   "cell_type": "code",
   "execution_count": 15,
   "metadata": {},
   "outputs": [
    {
     "name": "stdout",
     "output_type": "stream",
     "text": [
      "5\n"
     ]
    }
   ],
   "source": [
    "myFirstInteger = 15\n",
    "mySecondInteger = 10\n",
    "e = myFirstInteger - mySecondInteger #Zwei Variablen subtrahieren und Ergebnis in e gespeichert\n",
    "print(e)"
   ]
  },
  {
   "cell_type": "code",
   "execution_count": 23,
   "metadata": {},
   "outputs": [
    {
     "name": "stdout",
     "output_type": "stream",
     "text": [
      "53\n"
     ]
    }
   ],
   "source": [
    "age = 42\n",
    "age = age + 10 #age +=10 geht auch \n",
    "age += 1\n",
    "print(age)"
   ]
  },
  {
   "cell_type": "code",
   "execution_count": 26,
   "metadata": {},
   "outputs": [
    {
     "name": "stdout",
     "output_type": "stream",
     "text": [
      "42\n",
      "95299742895304\n",
      "43\n",
      "95299742895336\n"
     ]
    }
   ],
   "source": [
    "age = 42 \n",
    "print(age) #Inhalt des Speichers\n",
    "print(id(age)) #Adresse des Speichers\n",
    "\n",
    "age =43 \n",
    "print(age)\n",
    "print(id(age)) "
   ]
  },
  {
   "cell_type": "code",
   "execution_count": 35,
   "metadata": {},
   "outputs": [
    {
     "name": "stdout",
     "output_type": "stream",
     "text": [
      "{2, 3, 4, 5, 6}\n",
      "124550918684032\n",
      "{2, 4, 5, 6}\n",
      "124550918684032\n"
     ]
    }
   ],
   "source": [
    "myList = set() #Erstellen einer Liste\n",
    "myList.add(2) #Werte zu Liste hinzugefügt\n",
    "myList.add(3) \n",
    "myList.add(4)\n",
    "myList.add(5)\n",
    "myList.add(6)\n",
    "print(myList)\n",
    "print(id(myList))\n",
    "myList.remove(3) #Wert aus Liste entfernt\n",
    "print(myList)\n",
    "print(id(myList)) #Gleiche ID da Liste nicht verändert (nur ein Wert entfernt)"
   ]
  },
  {
   "cell_type": "code",
   "execution_count": 5,
   "metadata": {},
   "outputs": [
    {
     "name": "stdout",
     "output_type": "stream",
     "text": [
      "1\n",
      "1.75\n",
      "3.41kmh\n"
     ]
    }
   ],
   "source": [
    "t1 = int(1.75) #kann nur ganze Zahlen\n",
    "print(t1)\n",
    "t1 = 1.75\n",
    "print(t1)\n",
    "t1 = \"3.41\" + \"kmh\" #Zeichenkette\n",
    "print(t1)"
   ]
  },
  {
   "cell_type": "code",
   "execution_count": 10,
   "metadata": {},
   "outputs": [
    {
     "name": "stdout",
     "output_type": "stream",
     "text": [
      "22\n",
      "4095\n"
     ]
    }
   ],
   "source": [
    "t2 = int(\"10110\", base=2) #base: die Basis auf der es grechnet wird\n",
    "print(t2)\n",
    "t2 = int(\"FFF\", base = 16) #F Ist 15 (hexadezimal)\n",
    "print(t2)"
   ]
  },
  {
   "cell_type": "code",
   "execution_count": 11,
   "metadata": {},
   "outputs": [
    {
     "data": {
      "text/plain": [
       "sys.float_info(max=1.7976931348623157e+308, max_exp=1024, max_10_exp=308, min=2.2250738585072014e-308, min_exp=-1021, min_10_exp=-307, dig=15, mant_dig=53, epsilon=2.220446049250313e-16, radix=2, rounds=1)"
      ]
     },
     "execution_count": 11,
     "metadata": {},
     "output_type": "execute_result"
    }
   ],
   "source": [
    "import sys\n",
    "sys.float_info"
   ]
  },
  {
   "cell_type": "code",
   "execution_count": 36,
   "metadata": {},
   "outputs": [
    {
     "name": "stdout",
     "output_type": "stream",
     "text": [
      "-5.551115123125783e-17\n",
      "False\n",
      "True\n"
     ]
    }
   ],
   "source": [
    "print(0.3 - (0.1*3))\n",
    "print(0.3 - (0.1*3) ==0 )\n",
    "print(0.3 - (0.1*3) > -0.1 and 0.3 - (0.1*3) < 0.1)"
   ]
  },
  {
   "cell_type": "code",
   "execution_count": 31,
   "metadata": {},
   "outputs": [
    {
     "name": "stdout",
     "output_type": "stream",
     "text": [
      "1\n",
      "0\n",
      "True\n",
      "False\n",
      "True\n",
      "True\n",
      "\n",
      "False\n",
      "True\n",
      "True\n",
      "False\n",
      "\n",
      "Wahr\n"
     ]
    }
   ],
   "source": [
    "print(int(True))\n",
    "print(int(False))\n",
    "print(bool(1)) \n",
    "print(bool(0))\n",
    "print(bool(-10))\n",
    "print(bool(10))\n",
    "\n",
    "print()\n",
    "print(not True)\n",
    "print(not False)\n",
    "print(True or False)\n",
    "print(True and False)\n",
    "\n",
    "print()\n",
    "if True:\n",
    "    print(\"Wahr\")\n",
    "\n"
   ]
  },
  {
   "cell_type": "code",
   "execution_count": 34,
   "metadata": {},
   "outputs": [
    {
     "name": "stdout",
     "output_type": "stream",
     "text": [
      "3.14\n",
      "2.73\n",
      "(3.14-2.73j)\n"
     ]
    }
   ],
   "source": [
    "c = complex(3.14,2.73)\n",
    "print(c.real) #realer Teil\n",
    "print(c.imag) #imaginärer Teil\n",
    "print(c.conjugate())"
   ]
  },
  {
   "cell_type": "code",
   "execution_count": 46,
   "metadata": {},
   "outputs": [
    {
     "name": "stdout",
     "output_type": "stream",
     "text": [
      "Hallo \n",
      " Welt\n",
      "Hallo Du\n",
      "Hallo\n",
      "\n",
      "Mensch\n"
     ]
    }
   ],
   "source": [
    "str = \"Hallo \\n Welt\" #für \\ option+shift+7 \n",
    "str1 = 'Hallo Du'\n",
    "str2 = \"\"\"Hallo\n",
    "\n",
    "Mensch\"\"\"\n",
    "str3 = '''Hallo \n",
    "\n",
    "Welt'''\n",
    "print(str)\n",
    "print(str1)\n",
    "print(str2)"
   ]
  },
  {
   "cell_type": "code",
   "execution_count": null,
   "metadata": {},
   "outputs": [],
   "source": []
  }
 ],
 "metadata": {
  "kernelspec": {
   "display_name": "Python 3",
   "language": "python",
   "name": "python3"
  },
  "language_info": {
   "codemirror_mode": {
    "name": "ipython",
    "version": 3
   },
   "file_extension": ".py",
   "mimetype": "text/x-python",
   "name": "python",
   "nbconvert_exporter": "python",
   "pygments_lexer": "ipython3",
   "version": "3.12.1"
  }
 },
 "nbformat": 4,
 "nbformat_minor": 2
}
